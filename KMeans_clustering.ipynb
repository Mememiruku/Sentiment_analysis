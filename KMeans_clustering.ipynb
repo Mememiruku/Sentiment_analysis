{
 "cells": [
  {
   "cell_type": "code",
   "execution_count": 1090,
   "metadata": {},
   "outputs": [],
   "source": [
    "import numpy as np\n",
    "import pandas as pd\n",
    "from gensim.models import Word2Vec\n",
    "from sklearn.cluster import KMeans"
   ]
  },
  {
   "cell_type": "code",
   "execution_count": 1091,
   "metadata": {},
   "outputs": [],
   "source": [
    "word_vectors = Word2Vec.load(\"svmtest.model\").wv"
   ]
  },
  {
   "cell_type": "code",
   "execution_count": 1092,
   "metadata": {},
   "outputs": [],
   "source": [
    "model = KMeans(n_clusters=2, max_iter=1000, random_state=True, n_init=50).fit(X=word_vectors.vectors.astype('double'))"
   ]
  },
  {
   "cell_type": "code",
   "execution_count": 1093,
   "metadata": {},
   "outputs": [
    {
     "data": {
      "text/plain": [
       "[('kppn', 0.8069782853126526),\n",
       " ('helloo', 0.8024885654449463),\n",
       " ('megang', 0.7913312911987305),\n",
       " ('translate', 0.7840039730072021),\n",
       " ('mayan', 0.7806798219680786),\n",
       " ('menara', 0.7697272300720215),\n",
       " ('random', 0.7677547931671143),\n",
       " ('hastag', 0.7675060033798218),\n",
       " ('kemaren2', 0.7674771547317505),\n",
       " ('fd', 0.7654569149017334),\n",
       " ('yutub', 0.7648842930793762),\n",
       " ('less', 0.7632828950881958),\n",
       " ('stock', 0.7630276083946228),\n",
       " ('halus', 0.762319028377533),\n",
       " ('j', 0.7611578702926636),\n",
       " ('rin', 0.7592474222183228),\n",
       " ('gih', 0.7497272491455078),\n",
       " ('wth', 0.7490692138671875),\n",
       " ('kontrol', 0.7458175420761108),\n",
       " ('mainin', 0.744938850402832),\n",
       " ('kenapa2', 0.743679940700531),\n",
       " ('balek', 0.7426884174346924),\n",
       " ('mini', 0.7393925189971924),\n",
       " ('kain', 0.7358505725860596),\n",
       " ('ngomong2', 0.7354962825775146),\n",
       " ('signal', 0.7323988676071167),\n",
       " ('spam', 0.7313896417617798),\n",
       " ('gitar', 0.730621874332428),\n",
       " ('edukasi', 0.7287554740905762),\n",
       " ('termos', 0.7261835336685181)]"
      ]
     },
     "execution_count": 1093,
     "metadata": {},
     "output_type": "execute_result"
    }
   ],
   "source": [
    "word_vectors.similar_by_vector(model.cluster_centers_[0], topn=30, restrict_vocab=None)"
   ]
  },
  {
   "cell_type": "code",
   "execution_count": 1094,
   "metadata": {},
   "outputs": [],
   "source": [
    "positive_cluster_index = 0\n",
    "positive_cluster_center = model.cluster_centers_[positive_cluster_index]\n",
    "negative_cluster_center = model.cluster_centers_[1-positive_cluster_index]"
   ]
  },
  {
   "cell_type": "code",
   "execution_count": 1095,
   "metadata": {},
   "outputs": [],
   "source": [
    "words = pd.DataFrame(word_vectors.index_to_key)\n",
    "words.columns = ['words']\n",
    "words['vectors'] = words.words.apply(lambda x: word_vectors[f'{x}'])\n",
    "words['cluster'] = words.vectors.apply(lambda x: model.predict([np.array(x)]))\n",
    "words.cluster = words.cluster.apply(lambda x: x[0])"
   ]
  },
  {
   "cell_type": "code",
   "execution_count": 1096,
   "metadata": {},
   "outputs": [],
   "source": [
    "words['cluster_value'] = [1 if i==positive_cluster_index else -1 for i in words.cluster]\n",
    "words['closeness_score'] = words.apply(lambda x: 1/(model.transform([x.vectors]).min()), axis=1)\n",
    "words['sentiment_coeff'] = words.closeness_score * words.cluster_value"
   ]
  },
  {
   "cell_type": "code",
   "execution_count": 1097,
   "metadata": {},
   "outputs": [
    {
     "data": {
      "text/html": [
       "<div>\n",
       "<style scoped>\n",
       "    .dataframe tbody tr th:only-of-type {\n",
       "        vertical-align: middle;\n",
       "    }\n",
       "\n",
       "    .dataframe tbody tr th {\n",
       "        vertical-align: top;\n",
       "    }\n",
       "\n",
       "    .dataframe thead th {\n",
       "        text-align: right;\n",
       "    }\n",
       "</style>\n",
       "<table border=\"1\" class=\"dataframe\">\n",
       "  <thead>\n",
       "    <tr style=\"text-align: right;\">\n",
       "      <th></th>\n",
       "      <th>words</th>\n",
       "      <th>vectors</th>\n",
       "      <th>cluster</th>\n",
       "      <th>cluster_value</th>\n",
       "      <th>closeness_score</th>\n",
       "      <th>sentiment_coeff</th>\n",
       "    </tr>\n",
       "  </thead>\n",
       "  <tbody>\n",
       "    <tr>\n",
       "      <th>1</th>\n",
       "      <td>ya</td>\n",
       "      <td>[-0.0085440595, 0.021296458, -0.07435387, 0.00...</td>\n",
       "      <td>0</td>\n",
       "      <td>1</td>\n",
       "      <td>0.980026</td>\n",
       "      <td>0.980026</td>\n",
       "    </tr>\n",
       "    <tr>\n",
       "      <th>3</th>\n",
       "      <td>sayang</td>\n",
       "      <td>[0.014767483, -0.014824989, -0.13363433, 0.074...</td>\n",
       "      <td>0</td>\n",
       "      <td>1</td>\n",
       "      <td>0.952433</td>\n",
       "      <td>0.952433</td>\n",
       "    </tr>\n",
       "    <tr>\n",
       "      <th>4</th>\n",
       "      <td>takut</td>\n",
       "      <td>[0.023550805, 0.00020077561, 0.039549936, -0.0...</td>\n",
       "      <td>0</td>\n",
       "      <td>1</td>\n",
       "      <td>0.990735</td>\n",
       "      <td>0.990735</td>\n",
       "    </tr>\n",
       "    <tr>\n",
       "      <th>5</th>\n",
       "      <td>sih</td>\n",
       "      <td>[-0.124964915, 0.05483642, 0.050418645, 0.0321...</td>\n",
       "      <td>0</td>\n",
       "      <td>1</td>\n",
       "      <td>1.008028</td>\n",
       "      <td>1.008028</td>\n",
       "    </tr>\n",
       "    <tr>\n",
       "      <th>6</th>\n",
       "      <td>nya</td>\n",
       "      <td>[0.09494722, -0.051401827, 0.0049243225, 0.068...</td>\n",
       "      <td>0</td>\n",
       "      <td>1</td>\n",
       "      <td>0.978478</td>\n",
       "      <td>0.978478</td>\n",
       "    </tr>\n",
       "    <tr>\n",
       "      <th>...</th>\n",
       "      <td>...</td>\n",
       "      <td>...</td>\n",
       "      <td>...</td>\n",
       "      <td>...</td>\n",
       "      <td>...</td>\n",
       "      <td>...</td>\n",
       "    </tr>\n",
       "    <tr>\n",
       "      <th>3578</th>\n",
       "      <td>lacur</td>\n",
       "      <td>[-0.057975177, -0.006227292, -0.03073205, -0.0...</td>\n",
       "      <td>0</td>\n",
       "      <td>1</td>\n",
       "      <td>1.130849</td>\n",
       "      <td>1.130849</td>\n",
       "    </tr>\n",
       "    <tr>\n",
       "      <th>3579</th>\n",
       "      <td>wait</td>\n",
       "      <td>[0.024453515, 0.12028697, -0.0031088328, 0.021...</td>\n",
       "      <td>0</td>\n",
       "      <td>1</td>\n",
       "      <td>1.295165</td>\n",
       "      <td>1.295165</td>\n",
       "    </tr>\n",
       "    <tr>\n",
       "      <th>3582</th>\n",
       "      <td>gituu</td>\n",
       "      <td>[0.0032095015, 0.09930181, -0.019663915, -0.01...</td>\n",
       "      <td>0</td>\n",
       "      <td>1</td>\n",
       "      <td>1.248390</td>\n",
       "      <td>1.248390</td>\n",
       "    </tr>\n",
       "    <tr>\n",
       "      <th>3583</th>\n",
       "      <td>05</td>\n",
       "      <td>[-0.030377014, -0.0039329976, 0.020592565, 0.0...</td>\n",
       "      <td>0</td>\n",
       "      <td>1</td>\n",
       "      <td>1.230043</td>\n",
       "      <td>1.230043</td>\n",
       "    </tr>\n",
       "    <tr>\n",
       "      <th>3585</th>\n",
       "      <td>ariel</td>\n",
       "      <td>[-0.02934748, 0.077489555, 0.038859032, 0.0108...</td>\n",
       "      <td>0</td>\n",
       "      <td>1</td>\n",
       "      <td>1.245641</td>\n",
       "      <td>1.245641</td>\n",
       "    </tr>\n",
       "  </tbody>\n",
       "</table>\n",
       "<p>1997 rows × 6 columns</p>\n",
       "</div>"
      ],
      "text/plain": [
       "       words                                            vectors  cluster  \\\n",
       "1         ya  [-0.0085440595, 0.021296458, -0.07435387, 0.00...        0   \n",
       "3     sayang  [0.014767483, -0.014824989, -0.13363433, 0.074...        0   \n",
       "4      takut  [0.023550805, 0.00020077561, 0.039549936, -0.0...        0   \n",
       "5        sih  [-0.124964915, 0.05483642, 0.050418645, 0.0321...        0   \n",
       "6        nya  [0.09494722, -0.051401827, 0.0049243225, 0.068...        0   \n",
       "...      ...                                                ...      ...   \n",
       "3578   lacur  [-0.057975177, -0.006227292, -0.03073205, -0.0...        0   \n",
       "3579    wait  [0.024453515, 0.12028697, -0.0031088328, 0.021...        0   \n",
       "3582   gituu  [0.0032095015, 0.09930181, -0.019663915, -0.01...        0   \n",
       "3583      05  [-0.030377014, -0.0039329976, 0.020592565, 0.0...        0   \n",
       "3585   ariel  [-0.02934748, 0.077489555, 0.038859032, 0.0108...        0   \n",
       "\n",
       "      cluster_value  closeness_score  sentiment_coeff  \n",
       "1                 1         0.980026         0.980026  \n",
       "3                 1         0.952433         0.952433  \n",
       "4                 1         0.990735         0.990735  \n",
       "5                 1         1.008028         1.008028  \n",
       "6                 1         0.978478         0.978478  \n",
       "...             ...              ...              ...  \n",
       "3578              1         1.130849         1.130849  \n",
       "3579              1         1.295165         1.295165  \n",
       "3582              1         1.248390         1.248390  \n",
       "3583              1         1.230043         1.230043  \n",
       "3585              1         1.245641         1.245641  \n",
       "\n",
       "[1997 rows x 6 columns]"
      ]
     },
     "execution_count": 1097,
     "metadata": {},
     "output_type": "execute_result"
    }
   ],
   "source": [
    "words.loc[words.cluster==0]"
   ]
  },
  {
   "cell_type": "code",
   "execution_count": 1098,
   "metadata": {},
   "outputs": [],
   "source": [
    "words[['words', 'sentiment_coeff']].to_csv('sentiment_dictionary.csv', index=False)"
   ]
  }
 ],
 "metadata": {
  "kernelspec": {
   "display_name": "Python 3",
   "language": "python",
   "name": "python3"
  },
  "language_info": {
   "codemirror_mode": {
    "name": "ipython",
    "version": 3
   },
   "file_extension": ".py",
   "mimetype": "text/x-python",
   "name": "python",
   "nbconvert_exporter": "python",
   "pygments_lexer": "ipython3",
   "version": "3.11.4"
  }
 },
 "nbformat": 4,
 "nbformat_minor": 4
}
