{
 "cells": [
  {
   "cell_type": "code",
   "execution_count": 325,
   "metadata": {},
   "outputs": [],
   "source": [
    "import re\n",
    "import nltk\n",
    "import pandas as pd\n",
    "\n",
    "from nltk.corpus import stopwords\n",
    "from Sastrawi.Stemmer.StemmerFactory import StemmerFactory\n",
    "from re import sub"
   ]
  },
  {
   "cell_type": "code",
   "execution_count": 326,
   "metadata": {},
   "outputs": [],
   "source": [
    "def case_fold(word):\n",
    "    lower_case = word.lower()\n",
    "    return lower_case"
   ]
  },
  {
   "cell_type": "code",
   "execution_count": 327,
   "metadata": {},
   "outputs": [],
   "source": [
    "def tagged_removal(text):\n",
    "    text = sub(r\"[\\[].*?[\\]]\", \" \", text)\n",
    "    return text\n"
   ]
  },
  {
   "cell_type": "code",
   "execution_count": 328,
   "metadata": {},
   "outputs": [],
   "source": [
    "def hashtag_removal(text):\n",
    "    text = sub(r\"#\\S+\", \"\",text)\n",
    "    return text"
   ]
  },
  {
   "cell_type": "code",
   "execution_count": 329,
   "metadata": {},
   "outputs": [],
   "source": [
    "#Normalize slangs and abbreviation\n",
    "\n",
    "#load abbreviation dictionary\n",
    "kamus = pd.read_csv(\"kamus_singkatan.csv\")\n",
    "replacers = {}\n",
    "for x in range (0,kamus.shape[0]):\n",
    "    abbreviation = kamus.at[x, 'singkatan']\n",
    "    normalized = kamus.at[x,'normal']\n",
    "    replacers = {**replacers, abbreviation:normalized}\n",
    "    \n",
    "\n",
    "# remove abbreviations function\n",
    "def acronym_removal(text):\n",
    "    for rk in replacers.keys():\n",
    "        text = re.sub(r\"(^|\\s)(\"+ str(rk) + \")($|\\s)\", r\"\\1\" + str(replacers[rk]) + r\"\\3\", text)\n",
    "    return text"
   ]
  },
  {
   "cell_type": "code",
   "execution_count": 330,
   "metadata": {},
   "outputs": [],
   "source": [
    "#Stemming\n",
    "\n",
    "factory = StemmerFactory()\n",
    "stemmer = factory.create_stemmer()\n",
    "\n",
    "def stemming(text):\n",
    "    stemmed = stemmer.stem(text)\n",
    "    return stemmed"
   ]
  },
  {
   "cell_type": "code",
   "execution_count": 331,
   "metadata": {},
   "outputs": [
    {
     "name": "stdout",
     "output_type": "stream",
     "text": [
      "      label                                              tweet\n",
      "0         0  soal jalan jatibaru polisi tidak bisa gertak g...\n",
      "1         0  sama cewek lho mirip harus bisa lebih rasain l...\n",
      "2         1  kepingin gudeg mbarek bu hj amad foto dari goo...\n",
      "3         0  jalan jatibaru bagi dari wilayah tanah abang a...\n",
      "4         1  sharing alam saja kemarin jam 18 00 batalin ti...\n",
      "...     ...                                                ...\n",
      "4396      1  tahu kamu bahwa saat itu papa mejam mata dan t...\n",
      "4397      0  sulit tetap calon wapresnya jokowi di pilpres ...\n",
      "4398      0  5 masa depan tidak jelas lha iya gimana mau je...\n",
      "4399      1  dulu benar ada mahasiswa teknik ui nembak paca...\n",
      "4400      0  ya allah hanya engkau yang tahu rasa sakit di ...\n",
      "\n",
      "[4401 rows x 2 columns]\n"
     ]
    }
   ],
   "source": [
    "#read data\n",
    "df = pd.read_csv(\"Twitter_Emotion_Dataset.csv\")\n",
    "\n",
    "text = df['tweet']\n",
    "\n",
    "#collect preprocessing function\n",
    "functions = [tagged_removal,\n",
    "             hashtag_removal,\n",
    "             case_fold,                         \n",
    "             stemming,\n",
    "             acronym_removal,\n",
    "             stemming\n",
    "             ]\n",
    "\n",
    "#apply functions to the tweets\n",
    "for function in functions:\n",
    "    text = text.apply(function)\n",
    "\n",
    "df['tweet'] = text\n",
    "\n",
    "print(df)"
   ]
  },
  {
   "cell_type": "code",
   "execution_count": 332,
   "metadata": {},
   "outputs": [],
   "source": [
    "df.to_csv('Cleaned_dataset.csv', columns=[\"tweet\",'label'])"
   ]
  }
 ],
 "metadata": {
  "kernelspec": {
   "display_name": ".venv",
   "language": "python",
   "name": "python3"
  },
  "language_info": {
   "codemirror_mode": {
    "name": "ipython",
    "version": 3
   },
   "file_extension": ".py",
   "mimetype": "text/x-python",
   "name": "python",
   "nbconvert_exporter": "python",
   "pygments_lexer": "ipython3",
   "version": "3.11.4"
  },
  "orig_nbformat": 4
 },
 "nbformat": 4,
 "nbformat_minor": 2
}
